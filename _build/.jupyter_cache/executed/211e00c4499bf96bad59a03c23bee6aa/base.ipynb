{
 "cells": [
  {
   "cell_type": "code",
   "execution_count": 1,
   "id": "41cf5c63",
   "metadata": {},
   "outputs": [
    {
     "name": "stdout",
     "output_type": "stream",
     "text": [
      "torch.Size([16, 1, 28, 28])\n"
     ]
    }
   ],
   "source": [
    "import torch\n",
    "import torch.nn as nn\n",
    "\n",
    "class SimpleGenerator(nn.Module):\n",
    "    def __init__(self, latent_dim=100, image_shape=(1, 28, 28)):\n",
    "        super().__init__()\n",
    "        self.model = nn.Sequential(\n",
    "            nn.Linear(latent_dim, 256),\n",
    "            nn.ReLU(),\n",
    "            nn.Linear(256, 512),\n",
    "            nn.ReLU(),\n",
    "            nn.Linear(512, int(torch.prod(torch.tensor(image_shape)))),\n",
    "            nn.Tanh()  # Output in [-1, 1]\n",
    "        )\n",
    "        self.image_shape = image_shape\n",
    "\n",
    "    def forward(self, z):\n",
    "        img = self.model(z)\n",
    "        return img.view(z.size(0), *self.image_shape)\n",
    "\n",
    "# Sample usage\n",
    "latent_dim = 100\n",
    "generator = SimpleGenerator(latent_dim)\n",
    "z = torch.randn(16, latent_dim)\n",
    "generated_images = generator(z)\n",
    "print(generated_images.shape)  # e.g., (16, 1, 28, 28)\n"
   ]
  }
 ],
 "metadata": {
  "kernelspec": {
   "display_name": "teaching",
   "language": "python",
   "name": "python3"
  },
  "language_info": {
   "codemirror_mode": {
    "name": "ipython",
    "version": 3
   },
   "file_extension": ".py",
   "mimetype": "text/x-python",
   "name": "python",
   "nbconvert_exporter": "python",
   "pygments_lexer": "ipython3",
   "version": "3.12.2"
  }
 },
 "nbformat": 4,
 "nbformat_minor": 5
}