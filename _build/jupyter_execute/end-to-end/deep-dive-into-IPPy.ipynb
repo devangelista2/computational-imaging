{
 "cells": [
  {
   "cell_type": "markdown",
   "metadata": {},
   "source": [
    "# Deep dive into `IPPy`\n",
    "\n",
    "`IPPy` is a simple library, developed by me specifically for this course (and to support me during my experiments for papers). It includes multiple modules:\n",
    "\n",
    "- `nn`: contains functions to easy define complex neural network models, such as UNet, ViT, and others, with a flexible design.\n",
    "- `solvers`: implements a few optimization algorithms already discussed in the first module of this course, such as the `ChambollePock` algorithm for TV minimization, the `SGP` algorithm for smoothed-TV regularization, and others.\n",
    "- `operators`: implements multiple operators (we will check some of them below) specifically designed to work well with pytorch tensors. Not only they are developed so that they can efficiently work with batched, multidimensional data, but they also implement gradient tracking, useful to backpropagate the gradient back from the output to the input of the inverse process. This is useful in applications such as Algorithm Unrolling or Deep Generative Prior (DGP).\n",
    "\n",
    "## Introduction and requirements\n",
    "\n",
    "TODO:\n",
    "- Come \"installare\" IPPy\n",
    "- Librerie che servono per farla funzionare\n",
    "- Come installare librerie di supporto\n",
    "- Il funzionamento degli array \"standard\"\n",
    "\n",
    "## The `operators` module\n",
    "\n",
    "TODO:\n",
    "- Cos'è un'operatore. Esempio con CT.\n",
    "- Operatore in generale.\n",
    "- Esempi di operatori presenti in libreria.\n",
    "- Backpropagation attraverso gli operatori\n",
    "\n",
    "## The `solvers` module\n",
    "\n",
    "TODO:\n",
    "- Definire un solver\n",
    "- Testare un solver sui dati\n",
    "\n",
    "## The `nn` module\n",
    "\n",
    "TODO:\n",
    "- Come definire una rete neurale in `IPPy`\n",
    "- Alcuni esempi di rete neurale\n",
    "- Addestrare la rete neurale sui nostri dati (NOTA: no spiegazione di come funziona, per ora)\n",
    "- Salvare i pesi di un modello: pesi e cfg-dict\n",
    "- Caricare i pesi di un modello e testare il modello"
   ]
  },
  {
   "cell_type": "markdown",
   "metadata": {},
   "source": []
  }
 ],
 "metadata": {
  "language_info": {
   "codemirror_mode": {
    "name": "ipython",
    "version": 3
   },
   "file_extension": ".py",
   "mimetype": "text/x-python",
   "name": "python",
   "nbconvert_exporter": "python",
   "pygments_lexer": "ipython3",
   "version": "3.12.4"
  }
 },
 "nbformat": 4,
 "nbformat_minor": 2
}